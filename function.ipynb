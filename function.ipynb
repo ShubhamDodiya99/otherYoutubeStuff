{
 "cells": [
  {
   "cell_type": "code",
   "execution_count": 1,
   "id": "a038479b",
   "metadata": {},
   "outputs": [
    {
     "name": "stdout",
     "output_type": "stream",
     "text": [
      "Number is even\n"
     ]
    }
   ],
   "source": [
    "num = 24\n",
    "\n",
    "if num%2==0:\n",
    "    print('Number is even')\n",
    "else:\n",
    "    print('Number is odd')"
   ]
  },
  {
   "cell_type": "code",
   "execution_count": 4,
   "id": "dcb0ddf9",
   "metadata": {},
   "outputs": [
    {
     "name": "stdout",
     "output_type": "stream",
     "text": [
      "Number is odd\n"
     ]
    }
   ],
   "source": [
    "def evenOdd(num):\n",
    "    if num%2==0:\n",
    "        print('Number is even')\n",
    "    else:\n",
    "        print('Number is odd')\n",
    "        \n",
    "evenOdd(25)"
   ]
  },
  {
   "cell_type": "code",
   "execution_count": 5,
   "id": "b6c65481",
   "metadata": {},
   "outputs": [
    {
     "name": "stdout",
     "output_type": "stream",
     "text": [
      "Number is even\n"
     ]
    }
   ],
   "source": [
    "evenOdd(10)"
   ]
  },
  {
   "cell_type": "code",
   "execution_count": 6,
   "id": "0530d995",
   "metadata": {},
   "outputs": [],
   "source": [
    "# print vs return\n",
    "\n",
    "def hello():\n",
    "    print('Hello Welcome')"
   ]
  },
  {
   "cell_type": "code",
   "execution_count": 7,
   "id": "e1db05ad",
   "metadata": {},
   "outputs": [
    {
     "name": "stdout",
     "output_type": "stream",
     "text": [
      "Hello Welcome\n"
     ]
    }
   ],
   "source": [
    "hello()"
   ]
  },
  {
   "cell_type": "code",
   "execution_count": 8,
   "id": "06bdb0ff",
   "metadata": {},
   "outputs": [
    {
     "name": "stdout",
     "output_type": "stream",
     "text": [
      "Hello Welcome\n"
     ]
    }
   ],
   "source": [
    "val = hello()"
   ]
  },
  {
   "cell_type": "code",
   "execution_count": 9,
   "id": "d2a41999",
   "metadata": {},
   "outputs": [
    {
     "name": "stdout",
     "output_type": "stream",
     "text": [
      "None\n"
     ]
    }
   ],
   "source": [
    "print(val)"
   ]
  },
  {
   "cell_type": "code",
   "execution_count": 14,
   "id": "34356c1f",
   "metadata": {},
   "outputs": [],
   "source": [
    "def hello():\n",
    "    return 'Hello Welcome'"
   ]
  },
  {
   "cell_type": "code",
   "execution_count": 15,
   "id": "f3ecb820",
   "metadata": {},
   "outputs": [
    {
     "data": {
      "text/plain": [
       "'Hello Welcome'"
      ]
     },
     "execution_count": 15,
     "metadata": {},
     "output_type": "execute_result"
    }
   ],
   "source": [
    "hello()"
   ]
  },
  {
   "cell_type": "code",
   "execution_count": 16,
   "id": "350b41b7",
   "metadata": {},
   "outputs": [],
   "source": [
    "val2 = hello()"
   ]
  },
  {
   "cell_type": "code",
   "execution_count": 17,
   "id": "f8fa9122",
   "metadata": {},
   "outputs": [
    {
     "name": "stdout",
     "output_type": "stream",
     "text": [
      "Hello Welcome\n"
     ]
    }
   ],
   "source": [
    "print(val2)"
   ]
  },
  {
   "cell_type": "code",
   "execution_count": 18,
   "id": "6314e002",
   "metadata": {},
   "outputs": [],
   "source": [
    "def add(num1,num2):\n",
    "    return num1+num2"
   ]
  },
  {
   "cell_type": "code",
   "execution_count": 22,
   "id": "c9f0fcda",
   "metadata": {},
   "outputs": [
    {
     "name": "stdout",
     "output_type": "stream",
     "text": [
      "10\n"
     ]
    }
   ],
   "source": [
    "val3=add(4,6)\n",
    "print(val3)"
   ]
  },
  {
   "cell_type": "code",
   "execution_count": 26,
   "id": "68899c5c",
   "metadata": {},
   "outputs": [],
   "source": [
    "# first(name)-->position argument\n",
    "# second(age=25)-->keyword argument\n",
    "\n",
    "def hey(name,age=25):\n",
    "    print('My name is {} and my age is {}'.format(name,age))"
   ]
  },
  {
   "cell_type": "code",
   "execution_count": 27,
   "id": "afa18630",
   "metadata": {},
   "outputs": [
    {
     "name": "stdout",
     "output_type": "stream",
     "text": [
      "My name is sam and my age is 25\n"
     ]
    }
   ],
   "source": [
    "hey('sam')"
   ]
  },
  {
   "cell_type": "code",
   "execution_count": 28,
   "id": "ebba9edd",
   "metadata": {},
   "outputs": [
    {
     "name": "stdout",
     "output_type": "stream",
     "text": [
      "My name is sam and my age is 30\n"
     ]
    }
   ],
   "source": [
    "hey('sam',30)"
   ]
  },
  {
   "cell_type": "code",
   "execution_count": 29,
   "id": "1c4b14dc",
   "metadata": {},
   "outputs": [],
   "source": [
    "def hello(*args,**kwargs):\n",
    "    print(args)\n",
    "    print(kwargs)"
   ]
  },
  {
   "cell_type": "code",
   "execution_count": 30,
   "id": "66102446",
   "metadata": {},
   "outputs": [
    {
     "name": "stdout",
     "output_type": "stream",
     "text": [
      "()\n",
      "{}\n"
     ]
    }
   ],
   "source": [
    "hello()"
   ]
  },
  {
   "cell_type": "code",
   "execution_count": 31,
   "id": "9d5354ac",
   "metadata": {},
   "outputs": [
    {
     "name": "stdout",
     "output_type": "stream",
     "text": [
      "('sam', 'son')\n",
      "{'age': 25, 'dob': 1996}\n"
     ]
    }
   ],
   "source": [
    "hello('sam', 'son', age=25, dob=1996)"
   ]
  },
  {
   "cell_type": "code",
   "execution_count": 32,
   "id": "2ad8db0e",
   "metadata": {},
   "outputs": [],
   "source": [
    "lst=['sam', 'son']\n",
    "dicto={'age': 25, 'dob': 1996}"
   ]
  },
  {
   "cell_type": "code",
   "execution_count": 33,
   "id": "de060548",
   "metadata": {},
   "outputs": [
    {
     "name": "stdout",
     "output_type": "stream",
     "text": [
      "(['sam', 'son'], {'age': 25, 'dob': 1996})\n",
      "{}\n"
     ]
    }
   ],
   "source": [
    "hello(lst,dicto)"
   ]
  },
  {
   "cell_type": "code",
   "execution_count": 34,
   "id": "9bf956d5",
   "metadata": {},
   "outputs": [
    {
     "name": "stdout",
     "output_type": "stream",
     "text": [
      "('sam', 'son')\n",
      "{'age': 25, 'dob': 1996}\n"
     ]
    }
   ],
   "source": [
    "hello(*lst,**dicto)"
   ]
  },
  {
   "cell_type": "code",
   "execution_count": 1,
   "id": "4bd54861",
   "metadata": {},
   "outputs": [],
   "source": [
    "lst = [1,2,3,4,5,6,7]"
   ]
  },
  {
   "cell_type": "code",
   "execution_count": 2,
   "id": "7667e40f",
   "metadata": {},
   "outputs": [],
   "source": [
    "def evenOddSum(lst):\n",
    "    evenSum = 0\n",
    "    oddSum = 0\n",
    "    for i in lst:\n",
    "        if i%2==0:\n",
    "            evenSum=evenSum+i\n",
    "        else:\n",
    "            oddSum=oddSum+i\n",
    "    return evenSum,oddSum"
   ]
  },
  {
   "cell_type": "code",
   "execution_count": 3,
   "id": "d294cad2",
   "metadata": {},
   "outputs": [
    {
     "data": {
      "text/plain": [
       "(12, 16)"
      ]
     },
     "execution_count": 3,
     "metadata": {},
     "output_type": "execute_result"
    }
   ],
   "source": [
    "evenOddSum(lst)"
   ]
  },
  {
   "cell_type": "code",
   "execution_count": null,
   "id": "58c7c142",
   "metadata": {},
   "outputs": [],
   "source": []
  }
 ],
 "metadata": {
  "kernelspec": {
   "display_name": "Python 3 (ipykernel)",
   "language": "python",
   "name": "python3"
  },
  "language_info": {
   "codemirror_mode": {
    "name": "ipython",
    "version": 3
   },
   "file_extension": ".py",
   "mimetype": "text/x-python",
   "name": "python",
   "nbconvert_exporter": "python",
   "pygments_lexer": "ipython3",
   "version": "3.9.13"
  }
 },
 "nbformat": 4,
 "nbformat_minor": 5
}
