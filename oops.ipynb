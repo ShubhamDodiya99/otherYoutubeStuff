{
 "cells": [
  {
   "cell_type": "code",
   "execution_count": 1,
   "id": "d3f27808",
   "metadata": {},
   "outputs": [],
   "source": [
    "class Car:\n",
    "    pass"
   ]
  },
  {
   "cell_type": "code",
   "execution_count": 2,
   "id": "db6d4322",
   "metadata": {},
   "outputs": [],
   "source": [
    "car1=Car()"
   ]
  },
  {
   "cell_type": "code",
   "execution_count": 3,
   "id": "6bc6e076",
   "metadata": {},
   "outputs": [
    {
     "data": {
      "text/plain": [
       "<__main__.Car at 0x1bd9c53b040>"
      ]
     },
     "execution_count": 3,
     "metadata": {},
     "output_type": "execute_result"
    }
   ],
   "source": [
    "car1"
   ]
  },
  {
   "cell_type": "code",
   "execution_count": 4,
   "id": "a2a1426b",
   "metadata": {},
   "outputs": [],
   "source": [
    "car1.windows=5\n",
    "car1.door=4"
   ]
  },
  {
   "cell_type": "code",
   "execution_count": 5,
   "id": "14f5d37f",
   "metadata": {},
   "outputs": [
    {
     "name": "stdout",
     "output_type": "stream",
     "text": [
      "5\n"
     ]
    }
   ],
   "source": [
    "print(car1.windows)"
   ]
  },
  {
   "cell_type": "code",
   "execution_count": 6,
   "id": "507c456a",
   "metadata": {},
   "outputs": [],
   "source": [
    "car2=Car()"
   ]
  },
  {
   "cell_type": "code",
   "execution_count": 7,
   "id": "bc0c74cf",
   "metadata": {},
   "outputs": [],
   "source": [
    "car2.windows=3\n",
    "car2.door=2"
   ]
  },
  {
   "cell_type": "code",
   "execution_count": 8,
   "id": "2cbd8beb",
   "metadata": {},
   "outputs": [
    {
     "name": "stdout",
     "output_type": "stream",
     "text": [
      "3\n"
     ]
    }
   ],
   "source": [
    "print(car2.windows)"
   ]
  },
  {
   "cell_type": "code",
   "execution_count": 11,
   "id": "7b571d4f",
   "metadata": {},
   "outputs": [],
   "source": [
    "car2.engine='petrol'"
   ]
  },
  {
   "cell_type": "code",
   "execution_count": 12,
   "id": "66b5d297",
   "metadata": {},
   "outputs": [
    {
     "name": "stdout",
     "output_type": "stream",
     "text": [
      "petrol\n"
     ]
    }
   ],
   "source": [
    "print(car2.engine)"
   ]
  },
  {
   "cell_type": "code",
   "execution_count": 13,
   "id": "b7877513",
   "metadata": {},
   "outputs": [
    {
     "data": {
      "text/plain": [
       "['__class__',\n",
       " '__delattr__',\n",
       " '__dict__',\n",
       " '__dir__',\n",
       " '__doc__',\n",
       " '__eq__',\n",
       " '__format__',\n",
       " '__ge__',\n",
       " '__getattribute__',\n",
       " '__gt__',\n",
       " '__hash__',\n",
       " '__init__',\n",
       " '__init_subclass__',\n",
       " '__le__',\n",
       " '__lt__',\n",
       " '__module__',\n",
       " '__ne__',\n",
       " '__new__',\n",
       " '__reduce__',\n",
       " '__reduce_ex__',\n",
       " '__repr__',\n",
       " '__setattr__',\n",
       " '__sizeof__',\n",
       " '__str__',\n",
       " '__subclasshook__',\n",
       " '__weakref__',\n",
       " 'door',\n",
       " 'windows']"
      ]
     },
     "execution_count": 13,
     "metadata": {},
     "output_type": "execute_result"
    }
   ],
   "source": [
    "dir(car1) "
   ]
  },
  {
   "cell_type": "code",
   "execution_count": 14,
   "id": "5b49d149",
   "metadata": {},
   "outputs": [],
   "source": [
    "class Car:\n",
    "    def __init__(self,windows,door,engine):\n",
    "        self.windows=windows\n",
    "        self.door=door\n",
    "        self.engine=engine"
   ]
  },
  {
   "cell_type": "code",
   "execution_count": 15,
   "id": "5ddfde14",
   "metadata": {},
   "outputs": [],
   "source": [
    "car1 = Car(5,4,'petrol')"
   ]
  },
  {
   "cell_type": "code",
   "execution_count": 16,
   "id": "e65d7f43",
   "metadata": {},
   "outputs": [],
   "source": [
    "car2 = Car(4,3,'diesel')"
   ]
  },
  {
   "cell_type": "code",
   "execution_count": 17,
   "id": "81b24092",
   "metadata": {},
   "outputs": [
    {
     "name": "stdout",
     "output_type": "stream",
     "text": [
      "5\n"
     ]
    }
   ],
   "source": [
    "print(car1.windows)"
   ]
  },
  {
   "cell_type": "code",
   "execution_count": 18,
   "id": "57199bc0",
   "metadata": {},
   "outputs": [
    {
     "name": "stdout",
     "output_type": "stream",
     "text": [
      "diesel\n"
     ]
    }
   ],
   "source": [
    "print(car2.engine)"
   ]
  },
  {
   "cell_type": "code",
   "execution_count": 33,
   "id": "287d257f",
   "metadata": {},
   "outputs": [],
   "source": [
    "class Car:\n",
    "    def __init__(self,windows,door,engine):\n",
    "        self.windows=windows\n",
    "        self.door=door\n",
    "        self.engine=engine\n",
    "    def selfDriving(self):\n",
    "        return 'This is a {} car'.format(self.engine)"
   ]
  },
  {
   "cell_type": "code",
   "execution_count": 34,
   "id": "b43bc730",
   "metadata": {},
   "outputs": [],
   "source": [
    "car1 = Car(5,4,'petrol')"
   ]
  },
  {
   "cell_type": "code",
   "execution_count": 35,
   "id": "9f558351",
   "metadata": {},
   "outputs": [
    {
     "data": {
      "text/plain": [
       "'This is a petrol car'"
      ]
     },
     "execution_count": 35,
     "metadata": {},
     "output_type": "execute_result"
    }
   ],
   "source": [
    "car1.selfDriving()"
   ]
  },
  {
   "cell_type": "code",
   "execution_count": null,
   "id": "73cace73",
   "metadata": {},
   "outputs": [],
   "source": []
  }
 ],
 "metadata": {
  "kernelspec": {
   "display_name": "Python 3 (ipykernel)",
   "language": "python",
   "name": "python3"
  },
  "language_info": {
   "codemirror_mode": {
    "name": "ipython",
    "version": 3
   },
   "file_extension": ".py",
   "mimetype": "text/x-python",
   "name": "python",
   "nbconvert_exporter": "python",
   "pygments_lexer": "ipython3",
   "version": "3.9.13"
  }
 },
 "nbformat": 4,
 "nbformat_minor": 5
}
