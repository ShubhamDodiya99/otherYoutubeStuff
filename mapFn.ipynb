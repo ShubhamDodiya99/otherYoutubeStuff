{
 "cells": [
  {
   "cell_type": "code",
   "execution_count": 1,
   "id": "2c5d1e14",
   "metadata": {},
   "outputs": [],
   "source": [
    "def evenOrOdd(num):\n",
    "    if num%2==0:\n",
    "        return 'The number {} is Even'.format(num)\n",
    "#         print('Number is even')\n",
    "    else:\n",
    "        return 'The number {} is Odd'.format(num)\n",
    "#         print('Number is odd')"
   ]
  },
  {
   "cell_type": "code",
   "execution_count": 2,
   "id": "fe4094b0",
   "metadata": {},
   "outputs": [
    {
     "data": {
      "text/plain": [
       "'The number 37 is Odd'"
      ]
     },
     "execution_count": 2,
     "metadata": {},
     "output_type": "execute_result"
    }
   ],
   "source": [
    "evenOrOdd(37)"
   ]
  },
  {
   "cell_type": "code",
   "execution_count": 3,
   "id": "60906628",
   "metadata": {},
   "outputs": [],
   "source": [
    "lst = [1,2,3,4,5,6,7,8,9,23,24,25,26,76,75,74,73]"
   ]
  },
  {
   "cell_type": "code",
   "execution_count": 4,
   "id": "adf68681",
   "metadata": {},
   "outputs": [
    {
     "data": {
      "text/plain": [
       "['The number 1 is Odd',\n",
       " 'The number 2 is Even',\n",
       " 'The number 3 is Odd',\n",
       " 'The number 4 is Even',\n",
       " 'The number 5 is Odd',\n",
       " 'The number 6 is Even',\n",
       " 'The number 7 is Odd',\n",
       " 'The number 8 is Even',\n",
       " 'The number 9 is Odd',\n",
       " 'The number 23 is Odd',\n",
       " 'The number 24 is Even',\n",
       " 'The number 25 is Odd',\n",
       " 'The number 26 is Even',\n",
       " 'The number 76 is Even',\n",
       " 'The number 75 is Odd',\n",
       " 'The number 74 is Even',\n",
       " 'The number 73 is Odd']"
      ]
     },
     "execution_count": 4,
     "metadata": {},
     "output_type": "execute_result"
    }
   ],
   "source": [
    "list(map(evenOrOdd,lst))"
   ]
  },
  {
   "cell_type": "code",
   "execution_count": 5,
   "id": "81fad5f2",
   "metadata": {},
   "outputs": [
    {
     "data": {
      "text/plain": [
       "[1, 2, 3, 4, 5, 6, 7, 8, 9, 23, 24, 25, 26, 76, 75, 74, 73]"
      ]
     },
     "execution_count": 5,
     "metadata": {},
     "output_type": "execute_result"
    }
   ],
   "source": [
    "list(filter(evenOrOdd,lst))"
   ]
  },
  {
   "cell_type": "code",
   "execution_count": null,
   "id": "91ca51ac",
   "metadata": {},
   "outputs": [],
   "source": []
  }
 ],
 "metadata": {
  "kernelspec": {
   "display_name": "Python 3 (ipykernel)",
   "language": "python",
   "name": "python3"
  },
  "language_info": {
   "codemirror_mode": {
    "name": "ipython",
    "version": 3
   },
   "file_extension": ".py",
   "mimetype": "text/x-python",
   "name": "python",
   "nbconvert_exporter": "python",
   "pygments_lexer": "ipython3",
   "version": "3.9.13"
  }
 },
 "nbformat": 4,
 "nbformat_minor": 5
}
