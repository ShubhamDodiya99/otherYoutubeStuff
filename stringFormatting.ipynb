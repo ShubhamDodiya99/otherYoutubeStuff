{
 "cells": [
  {
   "cell_type": "code",
   "execution_count": 1,
   "id": "f98983e2",
   "metadata": {},
   "outputs": [
    {
     "name": "stdout",
     "output_type": "stream",
     "text": [
      "Hello everyone\n"
     ]
    }
   ],
   "source": [
    "print('Hello everyone')"
   ]
  },
  {
   "cell_type": "code",
   "execution_count": 2,
   "id": "97da6c1f",
   "metadata": {},
   "outputs": [],
   "source": [
    "stars = 'Hello everyone'"
   ]
  },
  {
   "cell_type": "code",
   "execution_count": 3,
   "id": "e7965049",
   "metadata": {},
   "outputs": [],
   "source": [
    "def greeting(name):\n",
    "    return 'Hello {}, Welcome to the community'.format(name)"
   ]
  },
  {
   "cell_type": "code",
   "execution_count": 5,
   "id": "308dbbf9",
   "metadata": {},
   "outputs": [
    {
     "data": {
      "text/plain": [
       "'Hello Sahara, Welcome to the community'"
      ]
     },
     "execution_count": 5,
     "metadata": {},
     "output_type": "execute_result"
    }
   ],
   "source": [
    "greeting('Sahara')"
   ]
  },
  {
   "cell_type": "code",
   "execution_count": 15,
   "id": "a8b8cd46",
   "metadata": {},
   "outputs": [],
   "source": [
    "def welcomeEmail(name,age):\n",
    "    return 'Welcome {}, Your age is {}'.format(name,age)"
   ]
  },
  {
   "cell_type": "code",
   "execution_count": 16,
   "id": "48a62539",
   "metadata": {},
   "outputs": [
    {
     "data": {
      "text/plain": [
       "'Welcome Sam, Your age is 26'"
      ]
     },
     "execution_count": 16,
     "metadata": {},
     "output_type": "execute_result"
    }
   ],
   "source": [
    "welcomeEmail('Sam',26)"
   ]
  },
  {
   "cell_type": "code",
   "execution_count": 1,
   "id": "9098bec8",
   "metadata": {},
   "outputs": [],
   "source": [
    "def welcomeEmail(name,age):\n",
    "    return 'Welcome {}, Your age is {}'.format(age,name)"
   ]
  },
  {
   "cell_type": "code",
   "execution_count": 2,
   "id": "7a69646e",
   "metadata": {},
   "outputs": [
    {
     "data": {
      "text/plain": [
       "'Welcome 26, Your age is Sam'"
      ]
     },
     "execution_count": 2,
     "metadata": {},
     "output_type": "execute_result"
    }
   ],
   "source": [
    "welcomeEmail('Sam',26)"
   ]
  },
  {
   "cell_type": "code",
   "execution_count": 3,
   "id": "72257c9c",
   "metadata": {},
   "outputs": [],
   "source": [
    "def welcomeEmail(name,age):\n",
    "    return 'Welcome {n}, Your age is {a}'.format(a=age,n=name)"
   ]
  },
  {
   "cell_type": "code",
   "execution_count": 6,
   "id": "9379bd94",
   "metadata": {},
   "outputs": [
    {
     "data": {
      "text/plain": [
       "'Welcome Same, Your age is 26'"
      ]
     },
     "execution_count": 6,
     "metadata": {},
     "output_type": "execute_result"
    }
   ],
   "source": [
    "welcomeEmail('Same',26)"
   ]
  },
  {
   "cell_type": "code",
   "execution_count": null,
   "id": "d0a6ff4e",
   "metadata": {},
   "outputs": [],
   "source": []
  }
 ],
 "metadata": {
  "kernelspec": {
   "display_name": "Python 3 (ipykernel)",
   "language": "python",
   "name": "python3"
  },
  "language_info": {
   "codemirror_mode": {
    "name": "ipython",
    "version": 3
   },
   "file_extension": ".py",
   "mimetype": "text/x-python",
   "name": "python",
   "nbconvert_exporter": "python",
   "pygments_lexer": "ipython3",
   "version": "3.9.13"
  }
 },
 "nbformat": 4,
 "nbformat_minor": 5
}
